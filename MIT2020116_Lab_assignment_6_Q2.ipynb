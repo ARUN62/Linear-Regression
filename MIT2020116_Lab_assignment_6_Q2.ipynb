{
  "nbformat": 4,
  "nbformat_minor": 0,
  "metadata": {
    "kernelspec": {
      "display_name": "Python 3",
      "language": "python",
      "name": "python3"
    },
    "language_info": {
      "codemirror_mode": {
        "name": "ipython",
        "version": 3
      },
      "file_extension": ".py",
      "mimetype": "text/x-python",
      "name": "python",
      "nbconvert_exporter": "python",
      "pygments_lexer": "ipython3",
      "version": "3.8.5"
    },
    "colab": {
      "name": "MIT2020116_Lab assignment 6_Q2.ipynb",
      "provenance": []
    }
  },
  "cells": [
    {
      "cell_type": "code",
      "metadata": {
        "id": "UIT7TtbUn74k"
      },
      "source": [
        "#import libraries\n",
        "%matplotlib inline\n",
        "import numpy as np\n",
        "import matplotlib.pyplot as plt\n",
        "import pandas as pd\n",
        "\n"
      ],
      "execution_count": null,
      "outputs": []
    },
    {
      "cell_type": "code",
      "metadata": {
        "id": "enw3Tgzkn74o",
        "outputId": "a75d96b2-0d7a-48de-9a21-081b854dbe79"
      },
      "source": [
        "df = pd.read_excel (r'data.xlsx')\n",
        "print (df)\n"
      ],
      "execution_count": null,
      "outputs": [
        {
          "output_type": "stream",
          "text": [
            "            x         y\n",
            "0    8.401169  6.176239\n",
            "1    6.251134  7.913023\n",
            "2    8.268641  5.676593\n",
            "3    7.791409  6.145519\n",
            "4    5.591513  5.659804\n",
            "..        ...       ...\n",
            "345  3.421501  4.523067\n",
            "346  3.284232  3.617980\n",
            "347  4.951906  1.914979\n",
            "348  0.168459  1.490085\n",
            "349  2.121266  3.458558\n",
            "\n",
            "[350 rows x 2 columns]\n"
          ],
          "name": "stdout"
        }
      ]
    },
    {
      "cell_type": "code",
      "metadata": {
        "id": "Cn2hqt3jn74q"
      },
      "source": [
        "# initializing our inputs and outputs\n",
        "X = df.iloc[:, :-1]\n",
        "Y = df.iloc[:, -1]\n"
      ],
      "execution_count": null,
      "outputs": []
    },
    {
      "cell_type": "code",
      "metadata": {
        "id": "AW94WcUen74r"
      },
      "source": [
        "X=X.values\n",
        "Y=Y.values"
      ],
      "execution_count": null,
      "outputs": []
    },
    {
      "cell_type": "code",
      "metadata": {
        "id": "URq7_0Dsn74r",
        "outputId": "263e3a97-cad2-4b73-d047-e7c447597ecb"
      },
      "source": [
        "Y"
      ],
      "execution_count": null,
      "outputs": [
        {
          "output_type": "execute_result",
          "data": {
            "text/plain": [
              "array([6.17623864, 7.91302285, 5.67659251, 6.1455194 , 5.65980413,\n",
              "       8.59764526, 8.43928035, 5.91354336, 6.93645199, 5.92080006,\n",
              "       7.50232383, 8.82286547, 6.39734806, 8.96452902, 3.62963828,\n",
              "       3.50664029, 2.29445413, 2.91147404, 1.69544901, 0.85312707,\n",
              "       1.99596702, 4.59888597, 7.83039506, 8.90670647, 7.67944938,\n",
              "       5.72238262, 6.80728337, 6.08188037, 6.30947327, 5.68273022,\n",
              "       8.65614711, 8.27652095, 6.80555014, 8.41219147, 8.13842095,\n",
              "       7.67652084, 6.87932613, 4.40228463, 4.62274154, 0.40626388,\n",
              "       2.41336507, 0.64132528, 1.2645558 , 4.41980767, 0.98138457,\n",
              "       0.60676827, 2.71847497, 1.57310374, 1.91020458, 3.95769631,\n",
              "       4.1958974 , 3.40118193, 2.08461004, 3.21444904, 1.07040726,\n",
              "       3.08635403, 3.37595573, 3.00511742, 1.73154752, 1.82200684,\n",
              "       0.85740538, 3.97680784, 2.46333456, 1.77311427, 3.875306  ,\n",
              "       1.18402404, 4.22416725, 4.08263485, 4.23114182, 1.85093425,\n",
              "       1.91614766, 4.30667374, 2.31954596, 2.8527411 , 3.47653404,\n",
              "       4.80458637, 2.7315649 , 3.18288287, 2.85446245, 4.63556074,\n",
              "       4.31882785, 0.84919625, 0.89349515, 1.21752184, 3.75889678,\n",
              "       0.99567188, 4.91470256, 3.54819351, 0.87718073, 4.29148696,\n",
              "       4.54705742, 4.8083154 , 2.85299852, 2.81439615, 0.88330602,\n",
              "       2.5683953 , 2.74235958, 0.82638721, 2.46946519, 2.67558634,\n",
              "       0.9940358 , 3.11584456, 0.13157697, 1.59395481, 2.66499767,\n",
              "       1.63386869, 3.0109522 , 1.80966364, 0.67460318, 4.56906752,\n",
              "       3.20279419, 3.29387071, 3.37665166, 3.72278857, 4.21088787,\n",
              "       2.58328584, 0.75934351, 1.90332137, 4.10509701, 0.8568219 ,\n",
              "       1.64987641, 4.83235993, 4.03146298, 1.11093965, 4.99886561,\n",
              "       0.31869349, 2.12741559, 2.02169076, 2.00146442, 0.55961322,\n",
              "       2.12155387, 3.06772941, 4.94030643, 1.09950389, 1.77040539,\n",
              "       1.3312094 , 1.45749017, 0.94194771, 0.11429812, 2.24702091,\n",
              "       1.21820097, 4.34363272, 2.64305384, 4.57067584, 4.86965089,\n",
              "       2.92712979, 0.59487691, 4.63266294, 2.96780386, 4.41807652,\n",
              "       2.12237966, 3.03628693, 0.35381791, 4.62386216, 3.21039708,\n",
              "       0.52249834, 3.50112537, 1.97902164, 0.42452375, 1.07239434,\n",
              "       1.24399449, 1.13326569, 3.51502196, 3.77076293, 2.73643317,\n",
              "       2.7674171 , 3.15286396, 4.92728475, 3.17139101, 3.00227806,\n",
              "       4.54593479, 2.85418317, 1.67709961, 4.78569579, 2.19961561,\n",
              "       3.00771297, 3.60131181, 3.39389171, 1.06379505, 0.40811688,\n",
              "       1.37239704, 4.33759193, 2.79678534, 2.32313886, 2.1515045 ,\n",
              "       3.8699296 , 3.26960211, 3.28864636, 0.80510452, 2.16188413,\n",
              "       2.52543042, 1.8766614 , 2.40186114, 1.71210701, 3.8857322 ,\n",
              "       1.91971931, 3.55778213, 2.40466704, 3.64590111, 4.68779619,\n",
              "       2.58627201, 4.51534374, 1.09096321, 4.3660967 , 0.41346466,\n",
              "       2.32701708, 0.10964911, 4.04140275, 0.8960475 , 0.82696123,\n",
              "       0.90801734, 3.45718282, 1.0688176 , 1.4905243 , 3.84167574,\n",
              "       2.50575047, 4.54732403, 0.28926452, 8.03486462, 7.53312099,\n",
              "       7.39090268, 7.96904417, 5.51760109, 8.23880523, 8.74400851,\n",
              "       5.5290348 , 8.3861992 , 8.18567554, 8.98997913, 6.29678575,\n",
              "       8.71839772, 7.74699757, 5.86862064, 6.4385632 , 8.17345318,\n",
              "       8.31928554, 5.86488549, 7.14415572, 6.26671662, 8.72947767,\n",
              "       6.62112921, 8.50140333, 6.40946334, 8.5732203 , 6.15893666,\n",
              "       8.15717843, 5.61091255, 7.74818705, 7.48404819, 6.81743341,\n",
              "       6.24391933, 8.27254894, 6.00905218, 7.21199858, 5.54496011,\n",
              "       6.15314209, 7.1983066 , 8.43379127, 5.99369939, 8.06275946,\n",
              "       7.91873421, 5.62072417, 7.21100042, 8.89986644, 5.89357983,\n",
              "       8.10124821, 7.7348948 , 7.5796402 , 7.24517879, 7.48748431,\n",
              "       6.99276488, 5.76683805, 6.51705329, 7.46467267, 7.71666714,\n",
              "       8.75771551, 8.92219205, 5.82758791, 7.81607231, 7.60970515,\n",
              "       7.15836252, 6.7468972 , 7.16452455, 7.84857706, 8.85875819,\n",
              "       5.81179493, 8.29209861, 7.56771511, 8.69268864, 5.85395262,\n",
              "       6.52653125, 5.68055872, 7.26444863, 8.18931513, 6.49044882,\n",
              "       6.28876086, 6.65951375, 7.08637973, 8.08084623, 7.28459979,\n",
              "       6.83879967, 8.66919126, 8.87840212, 7.69893573, 5.9621091 ,\n",
              "       7.66405622, 6.84057036, 8.96917812, 6.5038955 , 7.97167   ,\n",
              "       7.37322064, 6.72432814, 6.22982831, 6.75747287, 5.81098361,\n",
              "       6.69586951, 7.42034708, 7.11191611, 7.75908331, 7.29732294,\n",
              "       8.35049264, 5.84014122, 7.12299746, 7.56436121, 6.15510225,\n",
              "       7.63965551, 5.68179693, 7.51504432, 8.44820646, 7.24904091,\n",
              "       7.03658711, 6.02169979, 5.59897808, 8.14834426, 8.28637183,\n",
              "       6.52744458, 5.90322361, 6.81282071, 8.40112811, 1.13022719,\n",
              "       1.80503348, 1.62281006, 0.41791057, 2.56332767, 4.16432412,\n",
              "       4.52306749, 3.61797956, 1.91497912, 1.49008528, 3.45855818])"
            ]
          },
          "metadata": {
            "tags": []
          },
          "execution_count": 5
        }
      ]
    },
    {
      "cell_type": "code",
      "metadata": {
        "id": "fKvcora6n74s",
        "outputId": "54b68dd8-6160-44b7-d7e2-b17a8ef19260"
      },
      "source": [
        "# mean of our inputs and outputs\n",
        "x_mean = np.mean(X)\n",
        "y_mean = np.mean(Y)\n",
        "#total number of values\n",
        "n = len(X)\n",
        "# using the formula to calculate the b1 and b0\n",
        "numerator = 0\n",
        "denominator = 0\n",
        "for i in range(n):\n",
        "    numerator += (X[i] - x_mean) * (Y[i] - y_mean)\n",
        "    denominator += (X[i] - x_mean) ** 2\n",
        "    \n",
        "b1 = numerator / denominator\n",
        "b0 = y_mean - (b1 * x_mean)\n",
        "#printing the coefficient\n",
        "print(b1, b0)"
      ],
      "execution_count": null,
      "outputs": [
        {
          "output_type": "stream",
          "text": [
            "[0.74035259] [1.17502081]\n"
          ],
          "name": "stdout"
        }
      ]
    },
    {
      "cell_type": "code",
      "metadata": {
        "id": "vpQNa45In74u",
        "outputId": "cc6a3b41-df7e-411d-c9f2-1aa5085b09e2"
      },
      "source": [
        "#plotting values \n",
        "x_max = np.max(X) + 100\n",
        "x_min = np.min(X) - 100\n",
        "#calculating line values of x and y\n",
        "x = np.linspace(x_min, x_max, 1000)\n",
        "y = b0 + b1 * x\n",
        "#plotting line \n",
        "plt.plot(x, y, color='#00ff00', label='Linear Regression')\n",
        "#plot the data point\n",
        "plt.scatter(X, Y, color='#ff0000', label='Data Point')\n",
        "# x-axis label\n",
        "plt.xlabel('Head Size (cm^3)')\n",
        "#y-axis label\n",
        "plt.ylabel('Brain Weight (grams)')\n",
        "plt.legend()\n",
        "plt.show()"
      ],
      "execution_count": null,
      "outputs": [
        {
          "output_type": "display_data",
          "data": {
            "image/png": "[encoded data removed]",
            "text/plain": [
              "<Figure size 432x288 with 1 Axes>"
            ]
          },
          "metadata": {
            "tags": [],
            "needs_background": "light"
          }
        }
      ]
    },
    {
      "cell_type": "code",
      "metadata": {
        "id": "S6bEDnqWn74v",
        "outputId": "1c9234c2-2eff-4e67-a5ea-6bdedcba8e87"
      },
      "source": [
        "rmse = 0\n",
        "for i in range(n):\n",
        "    y_pred=  b0 + b1* X[i]\n",
        "    rmse += (Y[i] - y_pred) ** 2\n",
        "    \n",
        "rmse = np.sqrt(rmse/n)\n",
        "print(rmse)"
      ],
      "execution_count": null,
      "outputs": [
        {
          "output_type": "stream",
          "text": [
            "[1.68803685]\n"
          ],
          "name": "stdout"
        }
      ]
    },
    {
      "cell_type": "code",
      "metadata": {
        "id": "EoiBLNO-n74w",
        "outputId": "681283ef-ca4d-4690-e58c-dab81e8a1326"
      },
      "source": [
        "sumofsquares = 0\n",
        "sumofresiduals = 0\n",
        "for i in range(n) :\n",
        "    y_pred = b0 + b1 * X[i]\n",
        "    sumofsquares += (Y[i] - y_mean) ** 2\n",
        "    sumofresiduals += (Y[i] - y_pred) **2\n",
        "    \n",
        "score  = 1 - (sumofresiduals/sumofsquares)\n",
        "print(score)"
      ],
      "execution_count": null,
      "outputs": [
        {
          "output_type": "stream",
          "text": [
            "[0.58057399]\n"
          ],
          "name": "stdout"
        }
      ]
    },
    {
      "cell_type": "code",
      "metadata": {
        "id": "XUO4Y2vFn74x"
      },
      "source": [
        ""
      ],
      "execution_count": null,
      "outputs": []
    }
  ]
}